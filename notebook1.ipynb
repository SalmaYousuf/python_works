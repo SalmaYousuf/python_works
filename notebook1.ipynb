{
 "cells": [
  {
   "cell_type": "code",
   "execution_count": 40,
   "id": "fbf10bda-daa4-47cd-a13f-0141eb8fcc8e",
   "metadata": {},
   "outputs": [],
   "source": [
    "salaries=['20k','40k','50k','60k','35k','89k','40k']"
   ]
  },
  {
   "cell_type": "code",
   "execution_count": 42,
   "id": "fa20b125-8db1-4b9f-a409-5d5be985d442",
   "metadata": {},
   "outputs": [
    {
     "data": {
      "text/plain": [
       "['20k', '40k', '50k', '60k', '35k', '89k', '40k']"
      ]
     },
     "execution_count": 42,
     "metadata": {},
     "output_type": "execute_result"
    }
   ],
   "source": [
    "salaries"
   ]
  },
  {
   "cell_type": "markdown",
   "id": "e52ac588-73db-4dce-a756-cd9ad31fa11f",
   "metadata": {},
   "source": [
    "# Length"
   ]
  },
  {
   "cell_type": "code",
   "execution_count": 177,
   "id": "ff43d015-3da4-466f-834c-68be3bb5e4eb",
   "metadata": {},
   "outputs": [
    {
     "data": {
      "text/plain": [
       "['20k', '40k', '50k', '60k', '35k', '89k', '40k']"
      ]
     },
     "execution_count": 177,
     "metadata": {},
     "output_type": "execute_result"
    }
   ],
   "source": [
    "salaries"
   ]
  },
  {
   "cell_type": "code",
   "execution_count": 13,
   "id": "8576afc0-64de-4b37-89ab-8f377ef7077a",
   "metadata": {},
   "outputs": [
    {
     "name": "stdout",
     "output_type": "stream",
     "text": [
      "8\n"
     ]
    }
   ],
   "source": [
    "print (len('salaries'))"
   ]
  },
  {
   "cell_type": "markdown",
   "id": "4b24431d-83b3-4116-a0c9-8ba89e6deda6",
   "metadata": {},
   "source": [
    "# Retrieve"
   ]
  },
  {
   "cell_type": "code",
   "execution_count": 106,
   "id": "5389dc22-198f-4fcf-a330-dccb72f777aa",
   "metadata": {},
   "outputs": [
    {
     "data": {
      "text/plain": [
       "['20k', '40k', '50k', '60k', '35k', '89k', '40k']"
      ]
     },
     "execution_count": 106,
     "metadata": {},
     "output_type": "execute_result"
    }
   ],
   "source": [
    "salaries"
   ]
  },
  {
   "cell_type": "code",
   "execution_count": 134,
   "id": "faf6a3d8-becc-4afc-bcdd-2c933a24fe71",
   "metadata": {},
   "outputs": [
    {
     "name": "stdout",
     "output_type": "stream",
     "text": [
      "50k\n"
     ]
    }
   ],
   "source": [
    "print(salaries[2])"
   ]
  },
  {
   "cell_type": "markdown",
   "id": "39020672-692e-4473-ba26-39a31c1d61fd",
   "metadata": {},
   "source": [
    "# Negative Index"
   ]
  },
  {
   "cell_type": "code",
   "execution_count": 219,
   "id": "2daf5ed7-9ad9-4ccd-8572-538d77aaea65",
   "metadata": {},
   "outputs": [
    {
     "data": {
      "text/plain": [
       "['20k', '40k', '50k', '60k', '35k', '89k', '40k']"
      ]
     },
     "execution_count": 219,
     "metadata": {},
     "output_type": "execute_result"
    }
   ],
   "source": [
    "salaries"
   ]
  },
  {
   "cell_type": "code",
   "execution_count": 139,
   "id": "c41c01e8-5ae9-4a23-b3fc-5a8d65bd05dc",
   "metadata": {},
   "outputs": [
    {
     "name": "stdout",
     "output_type": "stream",
     "text": [
      "40k\n"
     ]
    }
   ],
   "source": [
    "print(salaries[-1])"
   ]
  },
  {
   "cell_type": "markdown",
   "id": "0535491e-9efd-440f-ad9c-ecc87d32eef4",
   "metadata": {},
   "source": [
    "# slice the salary "
   ]
  },
  {
   "cell_type": "code",
   "execution_count": 221,
   "id": "44a1e12d-83fa-444a-8161-6fb9912ac933",
   "metadata": {},
   "outputs": [
    {
     "data": {
      "text/plain": [
       "['20k', '40k', '50k', '60k', '35k', '89k', '40k']"
      ]
     },
     "execution_count": 221,
     "metadata": {},
     "output_type": "execute_result"
    }
   ],
   "source": [
    "salaries"
   ]
  },
  {
   "cell_type": "code",
   "execution_count": 153,
   "id": "86eaada5-801c-4c23-80bd-7acb4a226a56",
   "metadata": {},
   "outputs": [
    {
     "name": "stdout",
     "output_type": "stream",
     "text": [
      "['50k', '60k', '35k']\n"
     ]
    }
   ],
   "source": [
    "print(salaries[2:5])"
   ]
  },
  {
   "cell_type": "markdown",
   "id": "c7f5a331-e0ce-4171-944c-1c0f037975f7",
   "metadata": {},
   "source": [
    "# Add New Salary"
   ]
  },
  {
   "cell_type": "code",
   "execution_count": 223,
   "id": "3855177c-3b56-4733-8e18-099ffac1d814",
   "metadata": {},
   "outputs": [
    {
     "data": {
      "text/plain": [
       "['20k', '40k', '50k', '60k', '35k', '89k', '40k']"
      ]
     },
     "execution_count": 223,
     "metadata": {},
     "output_type": "execute_result"
    }
   ],
   "source": [
    "salaries"
   ]
  },
  {
   "cell_type": "code",
   "execution_count": 378,
   "id": "79469e95-3e48-478c-ad1e-7e335126bb7d",
   "metadata": {},
   "outputs": [],
   "source": [
    "salaries.append('100k')"
   ]
  },
  {
   "cell_type": "code",
   "execution_count": 380,
   "id": "14330f0f-0baa-4816-bd42-c56d2c051b48",
   "metadata": {},
   "outputs": [
    {
     "data": {
      "text/plain": [
       "['40k', '89k', '35k', '60k', '50k', '40k', '30K', '20k', '100k']"
      ]
     },
     "execution_count": 380,
     "metadata": {},
     "output_type": "execute_result"
    }
   ],
   "source": [
    "salaries"
   ]
  },
  {
   "cell_type": "markdown",
   "id": "b2b91807-6da9-4ba0-b266-136f03f416f8",
   "metadata": {},
   "source": [
    "# Add salary without method"
   ]
  },
  {
   "cell_type": "code",
   "execution_count": 231,
   "id": "d0fea54c-db70-4576-a5fe-2ab2d984cb55",
   "metadata": {},
   "outputs": [],
   "source": [
    "salaries = salaries + ['120k']"
   ]
  },
  {
   "cell_type": "code",
   "execution_count": 238,
   "id": "f9aa28d6-a57a-491e-9662-99c89ccef975",
   "metadata": {},
   "outputs": [
    {
     "name": "stdout",
     "output_type": "stream",
     "text": [
      "['20k', '40k', '50k', '60k', '35k', '89k', '40k', '100k', '120k']\n"
     ]
    }
   ],
   "source": [
    "print(salaries )"
   ]
  },
  {
   "cell_type": "markdown",
   "id": "33b03a44-57ab-4732-bcad-64c09855c5fc",
   "metadata": {},
   "source": [
    "# Replace "
   ]
  },
  {
   "cell_type": "code",
   "execution_count": 295,
   "id": "f5ab5f2b-d5bf-405b-a0c6-a3f343fc7e7c",
   "metadata": {},
   "outputs": [
    {
     "data": {
      "text/plain": [
       "['20k', '40k', '50k', '60k', '35k', '89k', '40k', '100k', '120k']"
      ]
     },
     "execution_count": 295,
     "metadata": {},
     "output_type": "execute_result"
    }
   ],
   "source": [
    "salaries"
   ]
  },
  {
   "cell_type": "code",
   "execution_count": 275,
   "id": "df68c65e-361d-4e25-b65b-dac5b189a320",
   "metadata": {},
   "outputs": [
    {
     "name": "stdout",
     "output_type": "stream",
     "text": [
      "['20k', '40k', '55k', '60k', '35k', '89k', '40k', '100k', '120k']\n"
     ]
    }
   ],
   "source": [
    "print(salaries[:2]+['55k']+(salaries[3:]))"
   ]
  },
  {
   "cell_type": "code",
   "execution_count": 82,
   "id": "451cf78a-5147-4cf4-a949-e5c3efa99f5f",
   "metadata": {},
   "outputs": [],
   "source": [
    "salaries[2] = '55k'"
   ]
  },
  {
   "cell_type": "code",
   "execution_count": 84,
   "id": "7d0fb635-eaa4-493c-a7d7-65865f1eb01d",
   "metadata": {},
   "outputs": [
    {
     "data": {
      "text/plain": [
       "['20k', '40k', '55k', '60k', '35k', '89k', '40k']"
      ]
     },
     "execution_count": 84,
     "metadata": {},
     "output_type": "execute_result"
    }
   ],
   "source": [
    "salaries "
   ]
  },
  {
   "cell_type": "markdown",
   "id": "c9933d6d-bd3f-4e96-9243-8a16db0b79c8",
   "metadata": {},
   "source": [
    "# Count"
   ]
  },
  {
   "cell_type": "code",
   "execution_count": 308,
   "id": "f18e0862-6994-4ba4-8740-89a3c2a13f18",
   "metadata": {},
   "outputs": [
    {
     "data": {
      "text/plain": [
       "['20k', '40k', '55k', '60k', '35k', '89k', '40k', '100k', '120k']"
      ]
     },
     "execution_count": 308,
     "metadata": {},
     "output_type": "execute_result"
    }
   ],
   "source": [
    "salaries"
   ]
  },
  {
   "cell_type": "code",
   "execution_count": 306,
   "id": "28dbeac3-0ed6-4977-abb2-1b9883ecf1d5",
   "metadata": {},
   "outputs": [
    {
     "data": {
      "text/plain": [
       "2"
      ]
     },
     "execution_count": 306,
     "metadata": {},
     "output_type": "execute_result"
    }
   ],
   "source": [
    "salaries.count('40k')"
   ]
  },
  {
   "cell_type": "markdown",
   "id": "b2ab9480-15f6-4554-a395-90a63934582d",
   "metadata": {},
   "source": [
    "# insert new salary "
   ]
  },
  {
   "cell_type": "code",
   "execution_count": 384,
   "id": "6c3114a4-eebb-462a-9748-11eaf3ee5c05",
   "metadata": {},
   "outputs": [],
   "source": [
    "salaries=['20k','40k','50k','60k','35k','89k','40k']\n"
   ]
  },
  {
   "cell_type": "code",
   "execution_count": 386,
   "id": "1412bce7-91ff-4dec-9df4-68197ba8e40e",
   "metadata": {},
   "outputs": [
    {
     "data": {
      "text/plain": [
       "['20k', '40k', '50k', '60k', '35k', '89k', '40k']"
      ]
     },
     "execution_count": 386,
     "metadata": {},
     "output_type": "execute_result"
    }
   ],
   "source": [
    "salaries"
   ]
  },
  {
   "cell_type": "code",
   "execution_count": 362,
   "id": "229eba2a-abb6-4dbc-8136-2b00fbffa2f4",
   "metadata": {},
   "outputs": [],
   "source": [
    "salaries.insert(1,'30K')"
   ]
  },
  {
   "cell_type": "code",
   "execution_count": 364,
   "id": "9ad81db3-4701-405d-9b21-90c4cb2e4cdb",
   "metadata": {},
   "outputs": [
    {
     "data": {
      "text/plain": [
       "['20k', '30K', '40k', '50k', '60k', '35k', '89k', '40k']"
      ]
     },
     "execution_count": 364,
     "metadata": {},
     "output_type": "execute_result"
    }
   ],
   "source": [
    "salaries"
   ]
  },
  {
   "cell_type": "markdown",
   "id": "d14d88b9-e76e-434e-a58f-26f19ccd316c",
   "metadata": {},
   "source": [
    "# Reverse"
   ]
  },
  {
   "cell_type": "code",
   "execution_count": 366,
   "id": "ac5f913f-5044-463a-8ffa-0b37870db5fc",
   "metadata": {},
   "outputs": [
    {
     "data": {
      "text/plain": [
       "['20k', '30K', '40k', '50k', '60k', '35k', '89k', '40k']"
      ]
     },
     "execution_count": 366,
     "metadata": {},
     "output_type": "execute_result"
    }
   ],
   "source": [
    "salaries"
   ]
  },
  {
   "cell_type": "code",
   "execution_count": 368,
   "id": "9330642c-6a80-4cfe-ae0d-5adcf3a6392f",
   "metadata": {},
   "outputs": [],
   "source": [
    "salaries.reverse()"
   ]
  },
  {
   "cell_type": "code",
   "execution_count": 372,
   "id": "0cd26450-5d56-46c3-b75c-3360b9c074ca",
   "metadata": {},
   "outputs": [
    {
     "data": {
      "text/plain": [
       "['40k', '89k', '35k', '60k', '50k', '40k', '30K', '20k']"
      ]
     },
     "execution_count": 372,
     "metadata": {},
     "output_type": "execute_result"
    }
   ],
   "source": [
    "salaries"
   ]
  },
  {
   "cell_type": "code",
   "execution_count": 374,
   "id": "64fa313b-3e5e-4da1-8f2c-ea628b681c3e",
   "metadata": {
    "scrolled": true
   },
   "outputs": [
    {
     "data": {
      "text/plain": [
       "['40k', '89k', '35k', '60k', '50k', '40k', '30K']"
      ]
     },
     "execution_count": 374,
     "metadata": {},
     "output_type": "execute_result"
    }
   ],
   "source": [
    "salaries [:-1]"
   ]
  },
  {
   "cell_type": "code",
   "execution_count": null,
   "id": "b0713aaf-1a2e-47a1-9993-00a29bee89dc",
   "metadata": {},
   "outputs": [],
   "source": []
  }
 ],
 "metadata": {
  "kernelspec": {
   "display_name": "Python [conda env:base] *",
   "language": "python",
   "name": "conda-base-py"
  },
  "language_info": {
   "codemirror_mode": {
    "name": "ipython",
    "version": 3
   },
   "file_extension": ".py",
   "mimetype": "text/x-python",
   "name": "python",
   "nbconvert_exporter": "python",
   "pygments_lexer": "ipython3",
   "version": "3.12.7"
  }
 },
 "nbformat": 4,
 "nbformat_minor": 5
}
