{
 "cells": [
  {
   "cell_type": "code",
   "execution_count": 1,
   "id": "79419381-ebe4-4203-b4df-02863fab2f3c",
   "metadata": {},
   "outputs": [
    {
     "name": "stdout",
     "output_type": "stream",
     "text": [
      "1\n",
      "2\n",
      "3\n",
      "4\n",
      "5\n",
      "6\n",
      "7\n",
      "8\n",
      "9\n"
     ]
    }
   ],
   "source": [
    "for i in range(1,10):\n",
    "    print(i)"
   ]
  },
  {
   "cell_type": "code",
   "execution_count": 5,
   "id": "917530fc-25c4-4899-b4bd-55ee47b10c11",
   "metadata": {},
   "outputs": [
    {
     "name": "stdout",
     "output_type": "stream",
     "text": [
      "2 * 1 =2\n",
      "2 * 2 =4\n",
      "2 * 3 =6\n",
      "2 * 4 =8\n",
      "2 * 5 =10\n",
      "2 * 6 =12\n",
      "2 * 7 =14\n",
      "2 * 8 =16\n",
      "2 * 9 =18\n",
      "2 * 10 =20\n"
     ]
    }
   ],
   "source": [
    "for i in range(2,21,2):\n",
    "    print(f\"2 * {i //2} ={i}\")"
   ]
  },
  {
   "cell_type": "code",
   "execution_count": 21,
   "id": "a437fdbf-d07a-48a0-9aca-750d03ed0719",
   "metadata": {},
   "outputs": [
    {
     "name": "stdout",
     "output_type": "stream",
     "text": [
      "0: i'm happy \n",
      "1: i'm happy \n",
      "2: i'm happy \n",
      "3: i'm happy \n",
      "4: i'm happy \n",
      "5: i'm happy \n",
      "6: i'm happy \n",
      "7: i'm happy \n",
      "8: i'm happy \n",
      "9: i'm happy \n",
      "10: i'm happy \n"
     ]
    }
   ],
   "source": [
    "for i in range (11):\n",
    "    print(str(i) +  \"\"\": i'm happy \"\"\")"
   ]
  },
  {
   "cell_type": "code",
   "execution_count": 27,
   "id": "671c179d-4c25-489a-8c2e-f8c2f7c9ed85",
   "metadata": {},
   "outputs": [
    {
     "name": "stdout",
     "output_type": "stream",
     "text": [
      "0: i am happy\n",
      "1: i am happy\n",
      "2: i am happy\n",
      "3: i am happy\n",
      "4: i am happy\n",
      "5: i am happy\n",
      "6: i am happy\n",
      "7: i am happy\n",
      "8: i am happy\n",
      "9: i am happy\n",
      "10: i am happy\n"
     ]
    }
   ],
   "source": [
    "for i in range (11):\n",
    "    print(f'{i}' +\": i am happy\")"
   ]
  },
  {
   "cell_type": "code",
   "execution_count": 47,
   "id": "ef2837bc-6d60-4dba-a1eb-a4e8047c5c6d",
   "metadata": {},
   "outputs": [],
   "source": [
    "name = ('sara' ,'aisha','sehrish','hafsa')"
   ]
  },
  {
   "cell_type": "code",
   "execution_count": 49,
   "id": "f6e1953a-9126-4bf8-9dcf-255ce8b9ba22",
   "metadata": {},
   "outputs": [
    {
     "data": {
      "text/plain": [
       "('sara', 'aisha', 'sehrish', 'hafsa')"
      ]
     },
     "execution_count": 49,
     "metadata": {},
     "output_type": "execute_result"
    }
   ],
   "source": [
    "name"
   ]
  },
  {
   "cell_type": "code",
   "execution_count": 51,
   "id": "f85351a2-68f1-462c-b2bd-98f4bfa66da2",
   "metadata": {},
   "outputs": [
    {
     "name": "stdout",
     "output_type": "stream",
     "text": [
      "0 : sara\n",
      "1 : aisha\n",
      "2 : sehrish\n",
      "3 : hafsa\n"
     ]
    }
   ],
   "source": [
    "for i ,name in enumerate(name):\n",
    "    print(f'{i} : {name}')"
   ]
  },
  {
   "cell_type": "code",
   "execution_count": 53,
   "id": "342f4762-73cc-4390-98b3-0646423947c1",
   "metadata": {},
   "outputs": [
    {
     "name": "stdout",
     "output_type": "stream",
     "text": [
      "The book 'To Kill a Mockingbird' has been added to the inventory.\n",
      "All book titles: ['The Great Gatsby', 'Rich Dad Poor Dad', 'Harry Potter', 'To Kill a Mockingbird']\n",
      "The book 'Harry Potter' has been removed as it is out of stock.\n",
      "Updated inventory: {'The Great Gatsby': {'price': 10.99, 'quantity': 5}, 'Rich Dad Poor Dad': {'price': 8.99, 'quantity': 8}, 'To Kill a Mockingbird': {'price': 15.99, 'quantity': 4}}\n"
     ]
    }
   ],
   "source": [
    "\n",
    "# Initial inventory dictionary\n",
    "inventory = {\n",
    "    \"The Great Gatsby\": {\"price\": 10.99, \"quantity\": 5},\n",
    "    \"Rich Dad Poor Dad\": {\"price\": 8.99, \"quantity\": 8},\n",
    "    \"Harry Potter\": {\"price\": 12.50, \"quantity\": 2},\n",
    "}\n",
    "\n",
    "# Function to add a new book to the inventory\n",
    "def add_book(title, price, quantity):\n",
    "    if title in inventory:\n",
    "        print(f\"The book '{title}' already exists in the inventory.\")\n",
    "    else:\n",
    "        inventory[title] = {\"price\": price, \"quantity\": quantity}\n",
    "        print(f\"The book '{title}' has been added to the inventory.\")\n",
    "\n",
    "# Function to get all book titles\n",
    "def get_all_titles():\n",
    "    return list(inventory.keys())\n",
    "\n",
    "# Function to remove books that are out of stock\n",
    "def remove_out_of_stock_books():\n",
    "    out_of_stock_books = [title for title, details in inventory.items() if details[\"quantity\"] == 0]\n",
    "    for book in out_of_stock_books:\n",
    "        del inventory[book]\n",
    "        print(f\"The book '{book}' has been removed as it is out of stock.\")\n",
    "\n",
    "# Example usage\n",
    "# Add a new book\n",
    "add_book(\"To Kill a Mockingbird\", 15.99, 4)\n",
    "\n",
    "# Get all book titles\n",
    "print(\"All book titles:\", get_all_titles())\n",
    "\n",
    "# Remove out-of-stock books\n",
    "# Example: Set a book's quantity to 0 to simulate out of stock\n",
    "inventory[\"Harry Potter\"][\"quantity\"] = 0\n",
    "remove_out_of_stock_books()\n",
    "\n",
    "# Print the updated inventory\n",
    "print(\"Updated inventory:\", inventory)\n"
   ]
  },
  {
   "cell_type": "code",
   "execution_count": 65,
   "id": "f86676e4-8977-480f-b3ca-31b26cf1090f",
   "metadata": {},
   "outputs": [
    {
     "name": "stdout",
     "output_type": "stream",
     "text": [
      "The book 'my book' has been added to the inventory.\n"
     ]
    }
   ],
   "source": [
    "add_book( \"my book\",54.30,5)"
   ]
  },
  {
   "cell_type": "code",
   "execution_count": 63,
   "id": "980205e0-0b43-4d3f-9e32-c68fae6f2e0b",
   "metadata": {},
   "outputs": [
    {
     "name": "stdout",
     "output_type": "stream",
     "text": [
      "All books titles: ['The Great Gatsby', 'Rich Dad Poor Dad', 'To Kill a Mockingbird']\n"
     ]
    }
   ],
   "source": [
    "print(\"All books titles:\" , get_all_titles())"
   ]
  },
  {
   "cell_type": "code",
   "execution_count": 55,
   "id": "05c5f533-ac9a-4d4e-afd0-918595a76cd1",
   "metadata": {},
   "outputs": [
    {
     "data": {
      "text/plain": [
       "{'The Great Gatsby': {'price': 10.99, 'quantity': 5},\n",
       " 'Rich Dad Poor Dad': {'price': 8.99, 'quantity': 8},\n",
       " 'To Kill a Mockingbird': {'price': 15.99, 'quantity': 4}}"
      ]
     },
     "execution_count": 55,
     "metadata": {},
     "output_type": "execute_result"
    }
   ],
   "source": [
    "inventory"
   ]
  },
  {
   "cell_type": "code",
   "execution_count": 59,
   "id": "f079aa84-7671-454c-a61c-8c212cdb63de",
   "metadata": {},
   "outputs": [
    {
     "name": "stdout",
     "output_type": "stream",
     "text": [
      "updated inventory: {'The Great Gatsby': {'price': 10.99, 'quantity': 5}, 'Rich Dad Poor Dad': {'price': 8.99, 'quantity': 8}, 'To Kill a Mockingbird': {'price': 15.99, 'quantity': 4}}\n"
     ]
    }
   ],
   "source": [
    "print(\"updated inventory:\", inventory)"
   ]
  }
 ],
 "metadata": {
  "kernelspec": {
   "display_name": "Python [conda env:base] *",
   "language": "python",
   "name": "conda-base-py"
  },
  "language_info": {
   "codemirror_mode": {
    "name": "ipython",
    "version": 3
   },
   "file_extension": ".py",
   "mimetype": "text/x-python",
   "name": "python",
   "nbconvert_exporter": "python",
   "pygments_lexer": "ipython3",
   "version": "3.12.7"
  }
 },
 "nbformat": 4,
 "nbformat_minor": 5
}
