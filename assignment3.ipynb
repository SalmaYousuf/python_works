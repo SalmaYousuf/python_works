{
 "cells": [
  {
   "cell_type": "code",
   "execution_count": 18,
   "id": "83b46eb2-91e7-4c0e-9f81-ee8aebf7d4a0",
   "metadata": {},
   "outputs": [
    {
     "name": "stdin",
     "output_type": "stream",
     "text": [
      "Enter your Age 18\n",
      "Enter your Credit score 30000\n",
      "Enter your income in US dollor 25000\n"
     ]
    },
    {
     "name": "stdout",
     "output_type": "stream",
     "text": [
      "Your are eligible for loan\n"
     ]
    }
   ],
   "source": [
    "#Q1..\n",
    "age = int(input( \"Enter your Age\" ))\n",
    "credit =int(input(\"Enter your Credit score\" ))\n",
    "income =int(input(\"Enter your income in US dollor\"))\n",
    "\n",
    "if(credit >=650) and (age >=18) and (income >=30000):\n",
    "    print(\"Your are eligible for a loan\")\n",
    "elif (credit_score >= 700) and (income >= 25000):\n",
    "    print(\"Your are eligible for loan\")\n",
    "else:\n",
    " print(\"You are not eligible for loan\")\n"
   ]
  },
  {
   "cell_type": "code",
   "execution_count": 20,
   "id": "4c034aa8-f7f5-4535-80bd-68851cfa0f08",
   "metadata": {},
   "outputs": [
    {
     "name": "stdin",
     "output_type": "stream",
     "text": [
      "Enter your Age:  18\n",
      "Enter your experience in years:  6\n"
     ]
    },
    {
     "name": "stdout",
     "output_type": "stream",
     "text": [
      "You have moderate experience.\n"
     ]
    }
   ],
   "source": [
    "#Q2..\n",
    "age = int(input(\"Enter your Age: \"))\n",
    "\n",
    "if (age < 18):\n",
    "   print(\"You are underage\")\n",
    "else:\n",
    "    experience = float(input(\"Enter your experience in years: \"))\n",
    "    if (experience >= 10):\n",
    "        print(\"You have a lot of experience.\")\n",
    "    elif (experience >= 5 and exp < 10):\n",
    "        print(\"You have moderate experience.\")\n",
    "    elif (experience >= 2 and exp < 5):\n",
    "        print(\"You are relatively new.\")\n",
    "    elif (experience < 2):\n",
    "        print(\"You are just starting out.\")\n",
    "\n"
   ]
  },
  {
   "cell_type": "code",
   "execution_count": 43,
   "id": "d3aa75c9-bfce-4071-ac21-76248f22209c",
   "metadata": {},
   "outputs": [
    {
     "name": "stdin",
     "output_type": "stream",
     "text": [
      "Enter same memory address 5\n",
      "Enter different memory address 5\n"
     ]
    },
    {
     "name": "stdout",
     "output_type": "stream",
     "text": [
      "Same mamory address \n",
      "140726853768704\n",
      "140726853768704\n"
     ]
    }
   ],
   "source": [
    "#Q3..\n",
    "#A)\n",
    "variable1 =str(input(\"Enter same memory address\"))\n",
    "variable2 =str(input( \"Enter different memory address\"))\n",
    "if (id(variable1 )) ==  (id(variable2)):\n",
    "    print(\"Same mamory address \")\n",
    "else:\n",
    "    print(\"Different memory address\")   \n",
    "                  \n",
    "\n",
    "print (id(variable1))\n",
    "print (id(variable2))      \n",
    "                 \n",
    "           "
   ]
  },
  {
   "cell_type": "code",
   "execution_count": 59,
   "id": "8d5e7cd0-def2-40a6-ab4b-7c03cfa4a02e",
   "metadata": {},
   "outputs": [
    {
     "name": "stdin",
     "output_type": "stream",
     "text": [
      "Enter your email address:  salma\n"
     ]
    },
    {
     "name": "stdout",
     "output_type": "stream",
     "text": [
      "This email address is not valid.\n"
     ]
    }
   ],
   "source": [
    "#Q4..\n",
    "\n",
    "emailAddress = input(\"Enter your email address: \")\n",
    "i = 0\n",
    "for i in range(len(emailAddress)):\n",
    "    a = emailAddress[i]\n",
    "    if (a == \"@\") or (a == \".\"):\n",
    "        print(\"This email address is Valid.\")\n",
    "        break\n",
    "    else: \n",
    "        print(\"This email address is not valid.\")\n",
    "        break\n",
    "        \n",
    "        \n",
    "\n"
   ]
  },
  {
   "cell_type": "code",
   "execution_count": 19,
   "id": "f44949dc-747a-45b2-ba75-2b2350b395aa",
   "metadata": {},
   "outputs": [
    {
     "name": "stdout",
     "output_type": "stream",
     "text": [
      "The data type of tuple : (11, 22.333, 'apple', [1, 2, 3], ('a', 'b'))\n",
      "The data type of tuple :[<class 'int'>, <class 'float'>, <class 'str'>, <class 'list'>, <class 'tuple'>]\n",
      "Final output of elements :[<class 'int'>, <class 'float'>, <class 'str'>, <class 'list'>, <class 'tuple'>]\n"
     ]
    }
   ],
   "source": [
    "# Q5..\n",
    "x = (11,22.333,\"apple\",[1,2,3],(\"a\",\"b\"))\n",
    "print (\"The data type of tuple : \" + str(x))\n",
    "y = list(map(type ,x))\n",
    "print (\"The data type of tuple :\" + str(y))\n",
    "print(\"Final output of elements :\" + str(y))"
   ]
  },
  {
   "cell_type": "code",
   "execution_count": 82,
   "id": "e0d864df-ca10-4a24-a65f-4e8046ece288",
   "metadata": {},
   "outputs": [
    {
     "name": "stdin",
     "output_type": "stream",
     "text": [
      "Enter the username to check:  bob\n"
     ]
    },
    {
     "name": "stdout",
     "output_type": "stream",
     "text": [
      "The user '{username}' exists.\n",
      "The user '{username}' is not the admin.\n"
     ]
    }
   ],
   "source": [
    "#Q6..\n",
    "active_users = [(\"ali\", \"admin\"), (\"bob\", \"user\"), (\"charlie\", \"moderator\")]\n",
    "\n",
    "def check_user(username):\n",
    "    \n",
    "    user_exists = any(user[0] == username for user in active_users)\n",
    "\n",
    "    if user_exists:\n",
    "        print(\"The user '{username}' exists.\")\n",
    "        \n",
    "        user_tuple = next(user for user in active_users if user[0] == username)\n",
    "        \n",
    "        \n",
    "        if user_tuple is active_users[0]:\n",
    "            print(\"The user '{username}' is the admin.\")\n",
    "        else:\n",
    "            print(\"The user '{username}' is not the admin.\")\n",
    "    else:\n",
    "        print(\"The user '{username}' does not exist.\")\n",
    "\n",
    "\n",
    "username_to_check = input(\"Enter the username to check: \")\n",
    "check_user(username_to_check)\n"
   ]
  },
  {
   "cell_type": "code",
   "execution_count": null,
   "id": "5adaa238-7416-4cc3-b15e-de5f0bde208b",
   "metadata": {},
   "outputs": [],
   "source": [
    "Q7. person1 has same family as of person2, write a program to print relation between person1 and person2, if their\n",
    "data is [&#39;father name&#39;,&#39;mother name&#39;,&#39;district&#39;,&#39;family number&#39;] same (Print relation &#39;Siblings&#39;) also check person1\n",
    "data with person3 which is cousin of person1 (Print relation &#39;Cousin&#39;)\n",
    "Hint:\n",
    "Use identity operator"
   ]
  },
  {
   "cell_type": "code",
   "execution_count": 86,
   "id": "3cabe0df-8ced-4535-a1b1-0665f1fe9963",
   "metadata": {},
   "outputs": [
    {
     "name": "stdout",
     "output_type": "stream",
     "text": [
      "Relation between person1 and person2: {relation1_and_2}\n",
      "Relation between person1 and person3: {relation1_and_3}\n"
     ]
    }
   ],
   "source": [
    "\n",
    "person1 = ['sara', 'humza', 'ali']\n",
    "person2 = ['sara', 'humza', 'ali']  # Sibling\n",
    "person3 = ['sara', 'noor', 'aisha']  # Cousin\n",
    "\n",
    "def find_relationship(person_a, person_b):\n",
    "    if person_a == person_b:\n",
    "        return 'Siblings'\n",
    "    elif person_a[0] == person_b[0] and person_a[1] == person_b[1]:\n",
    "        return 'Cousin'\n",
    "    else:\n",
    "        return 'No direct relation'\n",
    "\n",
    "relation1_and_2 = find_relationship(person1, person2)\n",
    "relation1_and_3 = find_relationship(person1, person3)\n",
    "                                    \n",
    "print(\"Relation between person1 and person2: {relation1_and_2}\")\n",
    "print(\"Relation between person1 and person3: {relation1_and_3}\")\n"
   ]
  },
  {
   "cell_type": "code",
   "execution_count": null,
   "id": "c67c5df3-fdb8-41c6-bd6e-47dc723a742c",
   "metadata": {},
   "outputs": [],
   "source": []
  }
 ],
 "metadata": {
  "kernelspec": {
   "display_name": "Python [conda env:base] *",
   "language": "python",
   "name": "conda-base-py"
  },
  "language_info": {
   "codemirror_mode": {
    "name": "ipython",
    "version": 3
   },
   "file_extension": ".py",
   "mimetype": "text/x-python",
   "name": "python",
   "nbconvert_exporter": "python",
   "pygments_lexer": "ipython3",
   "version": "3.12.7"
  }
 },
 "nbformat": 4,
 "nbformat_minor": 5
}
