{
 "cells": [
  {
   "cell_type": "markdown",
   "id": "f8c3f57f-2fd8-4fac-907a-02e666345562",
   "metadata": {},
   "source": [
    "## ***Why do we use for loop in python?***\n",
    "\n",
    "***A for loop in Python is used to iterate over a sequence (like a list, tuple, string, or range) and execute a block of code repeatedly for each item in the sequence. It helps automate repetitive tasks, making the code more concise and efficient***"
   ]
  },
  {
   "cell_type": "code",
   "execution_count": 1,
   "id": "fd79bbc7-906e-4d88-981b-839e40987abb",
   "metadata": {},
   "outputs": [
    {
     "data": {
      "text/plain": [
       "(1, 2, 3, 4, 5)"
      ]
     },
     "execution_count": 1,
     "metadata": {},
     "output_type": "execute_result"
    }
   ],
   "source": [
    "# Tuple\n",
    "my_tuple = (1, 2, 3, 4, 5)\n",
    "my_tuple"
   ]
  },
  {
   "cell_type": "code",
   "execution_count": 3,
   "id": "17371f0b-3b15-4d2f-bd3b-31ccb7aceae9",
   "metadata": {
    "scrolled": true
   },
   "outputs": [
    {
     "name": "stdout",
     "output_type": "stream",
     "text": [
      "1\n",
      "2\n",
      "3\n",
      "4\n",
      "5\n"
     ]
    }
   ],
   "source": [
    "print(my_tuple[0])\n",
    "print(my_tuple[1])\n",
    "print(my_tuple[2])\n",
    "print(my_tuple[3])\n",
    "print(my_tuple[4])"
   ]
  },
  {
   "cell_type": "code",
   "execution_count": 4,
   "id": "9561adc9-ba34-4a4d-9b3b-8c1e1b310dba",
   "metadata": {},
   "outputs": [
    {
     "name": "stdout",
     "output_type": "stream",
     "text": [
      "1\n",
      "2\n",
      "3\n",
      "4\n",
      "5\n"
     ]
    }
   ],
   "source": [
    "for i in my_tuple:\n",
    "    print(i)"
   ]
  },
  {
   "cell_type": "code",
   "execution_count": 5,
   "id": "9d4c9ce6-d750-4f5c-8963-f8dc40230ffe",
   "metadata": {},
   "outputs": [
    {
     "name": "stdout",
     "output_type": "stream",
     "text": [
      "1\n",
      "2\n",
      "3\n",
      "4\n",
      "5\n"
     ]
    }
   ],
   "source": [
    "for name in my_tuple:\n",
    "    print(name)"
   ]
  },
  {
   "cell_type": "code",
   "execution_count": 9,
   "id": "977c6112-81dc-4062-b7dd-93249c8aa8f8",
   "metadata": {},
   "outputs": [
    {
     "data": {
      "text/plain": [
       "['apple', 'banana', 'cherry']"
      ]
     },
     "execution_count": 9,
     "metadata": {},
     "output_type": "execute_result"
    }
   ],
   "source": [
    "# List\n",
    "my_list = ['apple', 'banana', 'cherry']\n",
    "my_list"
   ]
  },
  {
   "cell_type": "code",
   "execution_count": 11,
   "id": "3f92590c-2f2d-4633-b3ab-79cf4f97716a",
   "metadata": {},
   "outputs": [
    {
     "name": "stdout",
     "output_type": "stream",
     "text": [
      "apple\n",
      "banana\n",
      "cherry\n"
     ]
    }
   ],
   "source": [
    "for fruit in my_list:\n",
    "    print(fruit)"
   ]
  },
  {
   "cell_type": "code",
   "execution_count": 13,
   "id": "7a90e221-a367-44c6-92fa-ad39187c1bce",
   "metadata": {},
   "outputs": [
    {
     "data": {
      "text/plain": [
       "'hello'"
      ]
     },
     "execution_count": 13,
     "metadata": {},
     "output_type": "execute_result"
    }
   ],
   "source": [
    "# String\n",
    "my_string = \"hello\"\n",
    "my_string"
   ]
  },
  {
   "cell_type": "code",
   "execution_count": 15,
   "id": "f3538863-c514-4c38-a670-8e511310deb1",
   "metadata": {},
   "outputs": [
    {
     "name": "stdout",
     "output_type": "stream",
     "text": [
      "h\n",
      "e\n",
      "l\n",
      "l\n",
      "o\n"
     ]
    }
   ],
   "source": [
    "for i in my_string:\n",
    "    print(i)"
   ]
  },
  {
   "cell_type": "code",
   "execution_count": 17,
   "id": "95051273-3788-458d-b48d-4d6d7356cb85",
   "metadata": {},
   "outputs": [],
   "source": [
    "cities = ['karachi','hyderabad', 'islamabad', 'quetta','lahore']"
   ]
  },
  {
   "cell_type": "code",
   "execution_count": 19,
   "id": "62981742-71cb-4d7e-9bd2-d56dad92056e",
   "metadata": {},
   "outputs": [
    {
     "name": "stdout",
     "output_type": "stream",
     "text": [
      "karachi\n",
      "hyderabad\n",
      "islamabad\n",
      "quetta\n",
      "lahore\n"
     ]
    }
   ],
   "source": [
    "for city in cities:\n",
    "    print(city)"
   ]
  },
  {
   "cell_type": "code",
   "execution_count": 21,
   "id": "25d01134-af61-4d2d-981f-08e8402cdeff",
   "metadata": {},
   "outputs": [
    {
     "name": "stdout",
     "output_type": "stream",
     "text": [
      "karachi\n",
      "hyderabad\n",
      "islamabad\n",
      "quetta\n",
      "lahore\n"
     ]
    }
   ],
   "source": [
    "print(cities[0])\n",
    "print(cities[1])\n",
    "print(cities[2])\n",
    "print(cities[3])\n",
    "print(cities[4])"
   ]
  },
  {
   "cell_type": "code",
   "execution_count": 23,
   "id": "787a2243-94c2-40c5-8a2c-1770e09d575a",
   "metadata": {},
   "outputs": [
    {
     "name": "stdout",
     "output_type": "stream",
     "text": [
      "1\n",
      "2\n",
      "3\n",
      "4\n",
      "5\n",
      "6\n",
      "7\n",
      "8\n",
      "9\n",
      "10\n"
     ]
    }
   ],
   "source": [
    "for i in range(1,11):\n",
    "    print(i)"
   ]
  },
  {
   "cell_type": "code",
   "execution_count": 25,
   "id": "6db37285-3680-4087-b753-abb0f66bd963",
   "metadata": {},
   "outputs": [
    {
     "name": "stdout",
     "output_type": "stream",
     "text": [
      "0\n",
      "1\n",
      "2\n",
      "3\n",
      "4\n",
      "5\n",
      "6\n",
      "7\n",
      "8\n",
      "9\n"
     ]
    }
   ],
   "source": [
    "for i in range(10):\n",
    "    print(i)"
   ]
  },
  {
   "cell_type": "code",
   "execution_count": 27,
   "id": "71ef88e1-208a-4704-a882-25d77cdee27f",
   "metadata": {},
   "outputs": [
    {
     "name": "stdout",
     "output_type": "stream",
     "text": [
      "2\n",
      "4\n",
      "6\n",
      "8\n",
      "10\n",
      "12\n",
      "14\n",
      "16\n",
      "18\n",
      "20\n"
     ]
    }
   ],
   "source": [
    "for i in range(2,21,2):\n",
    "    print(i)"
   ]
  },
  {
   "cell_type": "code",
   "execution_count": 29,
   "id": "3311d6dc-11ee-464e-a213-ef83c5be17fc",
   "metadata": {},
   "outputs": [
    {
     "name": "stdout",
     "output_type": "stream",
     "text": [
      "2 * 1 = 2\n",
      "2 * 2 = 4\n",
      "2 * 3 = 6\n",
      "2 * 4 = 8\n",
      "2 * 5 = 10\n",
      "2 * 6 = 12\n",
      "2 * 7 = 14\n",
      "2 * 8 = 16\n",
      "2 * 9 = 18\n",
      "2 * 10 = 20\n"
     ]
    }
   ],
   "source": [
    "for i in range(2,21,2):\n",
    "    print(f\"2 * {i//2} = {i}\")"
   ]
  },
  {
   "cell_type": "code",
   "execution_count": 31,
   "id": "3a97e401-4a19-4aa1-820a-3c4a86cc42c9",
   "metadata": {},
   "outputs": [
    {
     "data": {
      "text/plain": [
       "1.0"
      ]
     },
     "execution_count": 31,
     "metadata": {},
     "output_type": "execute_result"
    }
   ],
   "source": [
    "2/2"
   ]
  },
  {
   "cell_type": "code",
   "execution_count": 33,
   "id": "e4387fc8-5964-4553-b959-d4f1db4d38df",
   "metadata": {},
   "outputs": [
    {
     "data": {
      "text/plain": [
       "1"
      ]
     },
     "execution_count": 33,
     "metadata": {},
     "output_type": "execute_result"
    }
   ],
   "source": [
    "2//2"
   ]
  },
  {
   "cell_type": "code",
   "execution_count": 35,
   "id": "43d8b04c-17de-4eaf-885e-91662b9b450d",
   "metadata": {},
   "outputs": [
    {
     "name": "stdout",
     "output_type": "stream",
     "text": [
      "3 * 1 = 3\n",
      "3 * 2 = 6\n",
      "3 * 3 = 9\n",
      "3 * 4 = 12\n",
      "3 * 5 = 15\n",
      "3 * 6 = 18\n",
      "3 * 7 = 21\n",
      "3 * 8 = 24\n",
      "3 * 9 = 27\n",
      "3 * 10 = 30\n"
     ]
    }
   ],
   "source": [
    "for i in range(3,31,3):\n",
    "    print(f'3 * {i//3} = {i}')"
   ]
  },
  {
   "cell_type": "code",
   "execution_count": 37,
   "id": "a732fd64-6e8e-43e9-8199-509d9c3f9309",
   "metadata": {},
   "outputs": [
    {
     "name": "stdout",
     "output_type": "stream",
     "text": [
      "I'm Happy\n",
      "I'm Happy\n",
      "I'm Happy\n",
      "I'm Happy\n",
      "I'm Happy\n",
      "I'm Happy\n",
      "I'm Happy\n",
      "I'm Happy\n",
      "I'm Happy\n",
      "I'm Happy\n"
     ]
    }
   ],
   "source": [
    "for i in range(10):\n",
    "    print('''I'm Happy''')"
   ]
  },
  {
   "cell_type": "code",
   "execution_count": 39,
   "id": "2a5fcb63-2824-490d-bfb1-5956225a2226",
   "metadata": {},
   "outputs": [
    {
     "ename": "TypeError",
     "evalue": "unsupported operand type(s) for +: 'int' and 'str'",
     "output_type": "error",
     "traceback": [
      "\u001b[1;31m---------------------------------------------------------------------------\u001b[0m",
      "\u001b[1;31mTypeError\u001b[0m                                 Traceback (most recent call last)",
      "Cell \u001b[1;32mIn[39], line 2\u001b[0m\n\u001b[0;32m      1\u001b[0m \u001b[38;5;28;01mfor\u001b[39;00m i \u001b[38;5;129;01min\u001b[39;00m \u001b[38;5;28mrange\u001b[39m(\u001b[38;5;241m10\u001b[39m):\n\u001b[1;32m----> 2\u001b[0m     \u001b[38;5;28mprint\u001b[39m(i \u001b[38;5;241m+\u001b[39m \u001b[38;5;124m'''\u001b[39m\u001b[38;5;124m: I\u001b[39m\u001b[38;5;124m'\u001b[39m\u001b[38;5;124mm Happy\u001b[39m\u001b[38;5;124m'''\u001b[39m)\n",
      "\u001b[1;31mTypeError\u001b[0m: unsupported operand type(s) for +: 'int' and 'str'"
     ]
    }
   ],
   "source": [
    "for i in range(10):\n",
    "    print(i + ''': I'm Happy''')"
   ]
  },
  {
   "cell_type": "code",
   "execution_count": null,
   "id": "db158eeb-3e86-4edf-8697-f62cf3b282db",
   "metadata": {},
   "outputs": [],
   "source": [
    "for i in range(10):\n",
    "    print(str(i) + \": I'm Happy\")"
   ]
  },
  {
   "cell_type": "code",
   "execution_count": null,
   "id": "c9d61ad2-9344-4ab3-af3b-48d219172346",
   "metadata": {},
   "outputs": [],
   "source": [
    "for i in range(0):\n",
    "    print(str(i) + \": I'm Happy\")"
   ]
  },
  {
   "cell_type": "code",
   "execution_count": null,
   "id": "74229fbd-3b10-4792-9953-907b50d38aaf",
   "metadata": {},
   "outputs": [],
   "source": [
    "for i in range(51,71):\n",
    "    print(str(i) + ''': I'm Happy''')"
   ]
  },
  {
   "cell_type": "code",
   "execution_count": 44,
   "id": "bafaa106-2785-4848-af23-46a3bd560665",
   "metadata": {},
   "outputs": [
    {
     "data": {
      "text/plain": [
       "['karachi', 'hyderabad', 'islamabad', 'quetta', 'lahore']"
      ]
     },
     "execution_count": 44,
     "metadata": {},
     "output_type": "execute_result"
    }
   ],
   "source": [
    "cities"
   ]
  },
  {
   "cell_type": "code",
   "execution_count": 46,
   "id": "6a70dfca-7841-468a-ba7f-95bdd119cf5f",
   "metadata": {},
   "outputs": [
    {
     "name": "stdout",
     "output_type": "stream",
     "text": [
      "0 : karachi\n",
      "1 : hyderabad\n",
      "2 : islamabad\n",
      "3 : quetta\n",
      "4 : lahore\n"
     ]
    }
   ],
   "source": [
    "for index, city in enumerate(cities):\n",
    "    print(f'{index} : {city}')"
   ]
  },
  {
   "cell_type": "markdown",
   "id": "47b8cb86-d1ae-4381-81e0-6dd9a2f01b09",
   "metadata": {},
   "source": [
    "## ***Nested for loop***"
   ]
  },
  {
   "cell_type": "code",
   "execution_count": 49,
   "id": "7271e2db-f5ea-4547-9321-8d91b6f7812d",
   "metadata": {},
   "outputs": [
    {
     "data": {
      "text/plain": [
       "['karachi', 'hyderabad', 'islamabad', 'quetta', 'lahore']"
      ]
     },
     "execution_count": 49,
     "metadata": {},
     "output_type": "execute_result"
    }
   ],
   "source": [
    "cities"
   ]
  },
  {
   "cell_type": "code",
   "execution_count": 51,
   "id": "4ab40fd8-affe-4cc5-aa1b-60d1c34d9ff4",
   "metadata": {},
   "outputs": [
    {
     "data": {
      "text/plain": [
       "['islamabad', 'multan', 'faisalabad', 'quetta', 'peshawar']"
      ]
     },
     "execution_count": 51,
     "metadata": {},
     "output_type": "execute_result"
    }
   ],
   "source": [
    "visited_cities = ['islamabad', 'multan','faisalabad','quetta','peshawar']\n",
    "visited_cities"
   ]
  },
  {
   "cell_type": "code",
   "execution_count": 53,
   "id": "6c798e5c-598e-43f8-ae40-31568caf3d93",
   "metadata": {},
   "outputs": [
    {
     "name": "stdout",
     "output_type": "stream",
     "text": [
      "karachi islamabad\n",
      "karachi multan\n",
      "karachi faisalabad\n",
      "karachi quetta\n",
      "karachi peshawar\n",
      "hyderabad islamabad\n",
      "hyderabad multan\n",
      "hyderabad faisalabad\n",
      "hyderabad quetta\n",
      "hyderabad peshawar\n",
      "islamabad islamabad\n",
      "islamabad multan\n",
      "islamabad faisalabad\n",
      "islamabad quetta\n",
      "islamabad peshawar\n",
      "quetta islamabad\n",
      "quetta multan\n",
      "quetta faisalabad\n",
      "quetta quetta\n",
      "quetta peshawar\n",
      "lahore islamabad\n",
      "lahore multan\n",
      "lahore faisalabad\n",
      "lahore quetta\n",
      "lahore peshawar\n"
     ]
    }
   ],
   "source": [
    "for city in cities:\n",
    "    for visited_city in visited_cities:\n",
    "        print(city, visited_city)"
   ]
  },
  {
   "cell_type": "code",
   "execution_count": 55,
   "id": "e688892a-0df2-402c-9e6c-b500ead5bfba",
   "metadata": {},
   "outputs": [
    {
     "data": {
      "text/plain": [
       "('karachi', 'hyderabad', 'islamabad', 'quetta', 'lahore')"
      ]
     },
     "execution_count": 55,
     "metadata": {},
     "output_type": "execute_result"
    }
   ],
   "source": [
    "cities_tuple = ('karachi', 'hyderabad', 'islamabad', 'quetta', 'lahore')\n",
    "cities_tuple\n"
   ]
  },
  {
   "cell_type": "code",
   "execution_count": 57,
   "id": "68d9ba10-b645-49ee-a6cc-3812b0a8e8de",
   "metadata": {},
   "outputs": [
    {
     "data": {
      "text/plain": [
       "('islamabad', 'multan', 'faisalabad', 'quetta', 'peshawar')"
      ]
     },
     "execution_count": 57,
     "metadata": {},
     "output_type": "execute_result"
    }
   ],
   "source": [
    "visited_cities_tuple = ('islamabad', 'multan','faisalabad','quetta','peshawar')\n",
    "visited_cities_tuple"
   ]
  },
  {
   "cell_type": "code",
   "execution_count": 59,
   "id": "3f3be219-51ed-43ce-9284-4e3cf304007a",
   "metadata": {},
   "outputs": [
    {
     "name": "stdout",
     "output_type": "stream",
     "text": [
      "karachi islamabad\n",
      "karachi multan\n",
      "karachi faisalabad\n",
      "karachi quetta\n",
      "karachi peshawar\n",
      "hyderabad islamabad\n",
      "hyderabad multan\n",
      "hyderabad faisalabad\n",
      "hyderabad quetta\n",
      "hyderabad peshawar\n",
      "islamabad islamabad\n",
      "islamabad multan\n",
      "islamabad faisalabad\n",
      "islamabad quetta\n",
      "islamabad peshawar\n",
      "quetta islamabad\n",
      "quetta multan\n",
      "quetta faisalabad\n",
      "quetta quetta\n",
      "quetta peshawar\n",
      "lahore islamabad\n",
      "lahore multan\n",
      "lahore faisalabad\n",
      "lahore quetta\n",
      "lahore peshawar\n"
     ]
    }
   ],
   "source": [
    "for city in cities_tuple:\n",
    "    for visited_city in visited_cities_tuple:\n",
    "        print(city, visited_city)"
   ]
  },
  {
   "cell_type": "code",
   "execution_count": 61,
   "id": "29a65f12-2f30-4779-89ed-01d41b7d9863",
   "metadata": {},
   "outputs": [
    {
     "data": {
      "text/plain": [
       "dict_items([('name', 'sara'), ('email', 'abc@gmail.com'), ('education', 'master')])"
      ]
     },
     "execution_count": 61,
     "metadata": {},
     "output_type": "execute_result"
    }
   ],
   "source": [
    "employee = {\n",
    "    'name' : 'sara',\n",
    "    'email' : \"abc@gmail.com\",\n",
    "    'education' : 'master'\n",
    "}\n",
    "employee.items()\n",
    "# employee.keys()\n",
    "# employee.values()"
   ]
  },
  {
   "cell_type": "code",
   "execution_count": 63,
   "id": "496d24e5-7461-4b39-ab93-4baf55282234",
   "metadata": {},
   "outputs": [
    {
     "name": "stdout",
     "output_type": "stream",
     "text": [
      "name sara\n",
      "email abc@gmail.com\n",
      "education master\n"
     ]
    }
   ],
   "source": [
    "employee = {\n",
    "    'name' : 'sara',\n",
    "    'email' : \"abc@gmail.com\",\n",
    "    'education' : 'master'\n",
    "}\n",
    "\n",
    "# for i in employee.items():\n",
    "#     print(i)\n",
    "\n",
    "\n",
    "for key,value in employee.items():\n",
    "    print(key,value)"
   ]
  },
  {
   "cell_type": "code",
   "execution_count": 65,
   "id": "c368c532-a66a-4181-b764-5585c12c8a87",
   "metadata": {},
   "outputs": [
    {
     "name": "stdout",
     "output_type": "stream",
     "text": [
      "name\n",
      "email\n",
      "education\n"
     ]
    }
   ],
   "source": [
    "employee = {\n",
    "    'name' : 'sara',\n",
    "    'email' : \"abc@gmail.com\",\n",
    "    'education' : 'master'\n",
    "}\n",
    "for key in employee.keys():\n",
    "    print(key)"
   ]
  },
  {
   "cell_type": "code",
   "execution_count": 67,
   "id": "d13cd225-f79d-4b0d-b5ca-425efd3ad011",
   "metadata": {},
   "outputs": [
    {
     "name": "stdout",
     "output_type": "stream",
     "text": [
      "sara\n",
      "abc@gmail.com\n",
      "master\n"
     ]
    }
   ],
   "source": [
    "employee = {\n",
    "    'name' : 'sara',\n",
    "    'email' : \"abc@gmail.com\",\n",
    "    'education' : 'master'\n",
    "}\n",
    "\n",
    "for value in employee.values():\n",
    "    print(value)"
   ]
  },
  {
   "cell_type": "markdown",
   "id": "dc231aa2-dee1-4867-b6f0-71734758fc6c",
   "metadata": {},
   "source": [
    "## ***while loop***"
   ]
  },
  {
   "cell_type": "code",
   "execution_count": null,
   "id": "4992fa5a-6bae-4e09-9857-c96e45fbd2c2",
   "metadata": {},
   "outputs": [],
   "source": [
    "# num = 0\n",
    "# while num < 5:\n",
    "#     print(\"loop is running : \", num)"
   ]
  },
  {
   "cell_type": "code",
   "execution_count": 69,
   "id": "d4fb2617-3d90-4cc8-ba01-804cb9d12657",
   "metadata": {},
   "outputs": [
    {
     "name": "stdout",
     "output_type": "stream",
     "text": [
      "loop is running :  0\n",
      "loop is running :  1\n",
      "loop is running :  2\n",
      "loop is running :  3\n",
      "loop is running :  4\n",
      "---> 5\n"
     ]
    }
   ],
   "source": [
    "num = 0\n",
    "while num < 5:\n",
    "    print(\"loop is running : \", num)\n",
    "    num += 1\n",
    "print('--->', num)"
   ]
  },
  {
   "cell_type": "code",
   "execution_count": 71,
   "id": "4cb7982c-b775-4181-9ace-b808e2a58666",
   "metadata": {},
   "outputs": [
    {
     "name": "stdout",
     "output_type": "stream",
     "text": [
      "loop is running :  1\n",
      "loop is running :  2\n",
      "loop is running :  3\n",
      "loop is running :  4\n",
      "loop is running :  5\n",
      "---> 6\n"
     ]
    }
   ],
   "source": [
    "num = 1\n",
    "while num <= 5:\n",
    "    print(\"loop is running : \", num)\n",
    "    num += 1\n",
    "print('--->', num)"
   ]
  },
  {
   "cell_type": "code",
   "execution_count": 77,
   "id": "4e8cff80-b6b3-4cc5-9b86-b598a51dc9a6",
   "metadata": {},
   "outputs": [
    {
     "name": "stdin",
     "output_type": "stream",
     "text": [
      "Enter city to visit: quit\n"
     ]
    },
    {
     "name": "stdout",
     "output_type": "stream",
     "text": [
      "[]\n"
     ]
    }
   ],
   "source": [
    "cities_to_visit = []\n",
    "user_input = ''\n",
    "\n",
    "while user_input != 'quit':\n",
    "    city = input('Enter city to visit:')\n",
    "    if city == 'quit':\n",
    "        user_input = 'quit'\n",
    "    else:\n",
    "        cities_to_visit.append(city)\n",
    "    \n",
    "print(cities_to_visit)"
   ]
  },
  {
   "cell_type": "code",
   "execution_count": 75,
   "id": "185ba294-0dab-446e-91aa-9326116129fb",
   "metadata": {},
   "outputs": [
    {
     "data": {
      "text/plain": [
       "['karachi', 'lahore', 'islamabad']"
      ]
     },
     "execution_count": 75,
     "metadata": {},
     "output_type": "execute_result"
    }
   ],
   "source": [
    "cities_to_visit"
   ]
  },
  {
   "cell_type": "markdown",
   "id": "5cff702e-8611-4206-ba8f-5b02d72a146e",
   "metadata": {},
   "source": [
    "## ***Nested While loop***"
   ]
  },
  {
   "cell_type": "code",
   "execution_count": 79,
   "id": "37e0a3a2-4ed5-43ed-91a7-a8662f61b23b",
   "metadata": {},
   "outputs": [
    {
     "name": "stdout",
     "output_type": "stream",
     "text": [
      "karachi islamabad\n",
      "karachi multan\n",
      "karachi faisalabad\n",
      "karachi quetta\n",
      "karachi peshawar\n",
      "hyderabad islamabad\n",
      "hyderabad multan\n",
      "hyderabad faisalabad\n",
      "hyderabad quetta\n",
      "hyderabad peshawar\n",
      "islamabad islamabad\n",
      "islamabad multan\n",
      "islamabad faisalabad\n",
      "islamabad quetta\n",
      "islamabad peshawar\n",
      "quetta islamabad\n",
      "quetta multan\n",
      "quetta faisalabad\n",
      "quetta quetta\n",
      "quetta peshawar\n",
      "lahore islamabad\n",
      "lahore multan\n",
      "lahore faisalabad\n",
      "lahore quetta\n",
      "lahore peshawar\n"
     ]
    }
   ],
   "source": [
    "# Define the tuples\n",
    "cities = ('karachi', 'hyderabad', 'islamabad', 'quetta', 'lahore')\n",
    "visited_cities = ('islamabad', 'multan', 'faisalabad', 'quetta', 'peshawar')\n",
    "\n",
    "# Initialize the index for cities_tuple\n",
    "i = 0\n",
    "\n",
    "# Outer while loop for cities_tuple\n",
    "while i < len(cities):\n",
    "    # Initialize the index for visited_cities_tuple\n",
    "    j = 0\n",
    "    \n",
    "    # Inner while loop for visited_cities_tuple\n",
    "    while j < len(visited_cities):\n",
    "        print(cities_tuple[i], visited_cities_tuple[j])\n",
    "        j += 1  # Move to the next visited city\n",
    "    \n",
    "    i += 1  # Move to the next city in cities_tuple\n"
   ]
  },
  {
   "cell_type": "markdown",
   "id": "6d34600b-4d3b-4691-87b0-299e10bccba5",
   "metadata": {},
   "source": [
    "## **String Formatting**"
   ]
  },
  {
   "cell_type": "code",
   "execution_count": 81,
   "id": "b82ebb3c-bd31-4e66-aff7-2c2600b9a4c4",
   "metadata": {},
   "outputs": [],
   "source": [
    "name = 'sara'\n",
    "email = 'abcd@gmail.com'\n"
   ]
  },
  {
   "cell_type": "code",
   "execution_count": 83,
   "id": "c33755f0-f449-44ad-8053-893e7cc98ff5",
   "metadata": {},
   "outputs": [
    {
     "data": {
      "text/plain": [
       "'Name: sara, Email: abcd@gmail.com'"
      ]
     },
     "execution_count": 83,
     "metadata": {},
     "output_type": "execute_result"
    }
   ],
   "source": [
    "\"Name: {}, Email: {}\".format(name,email)"
   ]
  },
  {
   "cell_type": "code",
   "execution_count": 85,
   "id": "cd433362-a9a1-48aa-9985-2fe123ae6abf",
   "metadata": {},
   "outputs": [
    {
     "data": {
      "text/plain": [
       "'Name: sara, Email:abcd@gmail.com'"
      ]
     },
     "execution_count": 85,
     "metadata": {},
     "output_type": "execute_result"
    }
   ],
   "source": [
    "\"Name: {0}, Email:{1}\".format(name,email)"
   ]
  },
  {
   "cell_type": "code",
   "execution_count": 89,
   "id": "3dd4c0dd-79e9-442c-89c2-1df854821a1e",
   "metadata": {},
   "outputs": [
    {
     "data": {
      "text/plain": [
       "'Name: sara, Email: abcd@gmail.com'"
      ]
     },
     "execution_count": 89,
     "metadata": {},
     "output_type": "execute_result"
    }
   ],
   "source": [
    "\"Name: {name}, Email: {email}\".format(name=name,email=email)"
   ]
  },
  {
   "cell_type": "code",
   "execution_count": 87,
   "id": "b6d362e0-7193-468f-9c5f-296333b6533b",
   "metadata": {},
   "outputs": [
    {
     "data": {
      "text/plain": [
       "'Name: sara, Email: abcd@gmail.com'"
      ]
     },
     "execution_count": 87,
     "metadata": {},
     "output_type": "execute_result"
    }
   ],
   "source": [
    "\"Name: {Name}, Email: {Email}\".format(Name=name,Email=email)"
   ]
  },
  {
   "cell_type": "code",
   "execution_count": 91,
   "id": "02ea651b-77ae-499d-95a6-c78f9b220ba2",
   "metadata": {},
   "outputs": [
    {
     "data": {
      "text/plain": [
       "'Name:sara, Email:abcd@gmail.com'"
      ]
     },
     "execution_count": 91,
     "metadata": {},
     "output_type": "execute_result"
    }
   ],
   "source": [
    "f'Name:{name}, Email:{email}'"
   ]
  },
  {
   "cell_type": "code",
   "execution_count": 93,
   "id": "8e5f3e45-b599-4a5c-aa2f-c769a2a5ca6c",
   "metadata": {},
   "outputs": [
    {
     "name": "stdout",
     "output_type": "stream",
     "text": [
      "Name: sara Email: abcd@gmail.com\n"
     ]
    }
   ],
   "source": [
    "print(\"Name:\", name,\"Email:\", email)"
   ]
  },
  {
   "cell_type": "code",
   "execution_count": null,
   "id": "60dfbbc9-bd5e-4f3c-b795-c98474be8c6a",
   "metadata": {},
   "outputs": [],
   "source": []
  }
 ],
 "metadata": {
  "kernelspec": {
   "display_name": "Python [conda env:base] *",
   "language": "python",
   "name": "conda-base-py"
  },
  "language_info": {
   "codemirror_mode": {
    "name": "ipython",
    "version": 3
   },
   "file_extension": ".py",
   "mimetype": "text/x-python",
   "name": "python",
   "nbconvert_exporter": "python",
   "pygments_lexer": "ipython3",
   "version": "3.12.7"
  }
 },
 "nbformat": 4,
 "nbformat_minor": 5
}
