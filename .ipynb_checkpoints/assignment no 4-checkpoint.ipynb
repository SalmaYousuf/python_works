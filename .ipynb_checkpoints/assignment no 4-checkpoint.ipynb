{
 "cells": [
  {
   "cell_type": "code",
   "execution_count": null,
   "id": "0679d8a9-33f7-4384-96bb-364c4fada726",
   "metadata": {},
   "outputs": [],
   "source": [
    "##Q1..cerate a new tuple by concatenating the first and last elements of my_tuple.(ussing for loop)"
   ]
  },
  {
   "cell_type": "code",
   "execution_count": 33,
   "id": "d906a62f-ddfe-46f5-8bb9-f551782fdd4a",
   "metadata": {},
   "outputs": [],
   "source": [
    "my_tuple = ((1,2,3),[4,5,6],('apple','banana','cherry'),[7,8,9])"
   ]
  },
  {
   "cell_type": "code",
   "execution_count": 1,
   "id": "2e223b6b-1e65-4555-bda2-d1af089403ac",
   "metadata": {},
   "outputs": [
    {
     "name": "stdout",
     "output_type": "stream",
     "text": [
      "(1, 2, 3)\n",
      "[4, 5, 6]\n",
      "('apple', 'banana', 'cherry')\n",
      "[7, 8, 9]\n"
     ]
    }
   ],
   "source": [
    "my_tuple = ((1,2,3),[4,5,6],('apple','banana','cherry'),[7,8,9])\n",
    " \n",
    "for i in my_tuple:\n",
    "      print(i)\n"
   ]
  },
  {
   "cell_type": "code",
   "execution_count": 35,
   "id": "f37cfb31-0e37-4741-b6c9-7f77394ef801",
   "metadata": {},
   "outputs": [
    {
     "data": {
      "text/plain": [
       "((1, 2, 3), [4, 5, 6], ('apple', 'banana', 'cherry'), [7, 8, 9])"
      ]
     },
     "execution_count": 35,
     "metadata": {},
     "output_type": "execute_result"
    }
   ],
   "source": [
    "my_tuple"
   ]
  },
  {
   "cell_type": "code",
   "execution_count": null,
   "id": "31244da2-e55d-45c0-94a1-09976233c55b",
   "metadata": {},
   "outputs": [],
   "source": [
    "##Q2.."
   ]
  },
  {
   "cell_type": "code",
   "execution_count": 3,
   "id": "cdec113e-04dc-4990-9188-61ddf8876f07",
   "metadata": {},
   "outputs": [],
   "source": [
    "inventory = {\n",
    "    \"The Great Gatsby\": {\"price\": 10.99, \"quantity\": 5},\n",
    "    \"Rich Dad Poor Dad\": {\"price\": 8.99, \"quantity\": 8},\n",
    "    \"Harry Potter\": {\"price\": 12.50, \"quantity\": 2},\n",
    "}\n"
   ]
  },
  {
   "cell_type": "code",
   "execution_count": 444,
   "id": "2177991d-47a5-41ee-933e-ebeab422f8a0",
   "metadata": {},
   "outputs": [
    {
     "data": {
      "text/plain": [
       "{'The Great Gatsby': {'price': 10.99, 'quantity': 5},\n",
       " 'Rich Dad Poor Dad': {'price': 8.99, 'quantity': 8},\n",
       " 'Harry Potter': {'price': 12.5, 'quantity': 2}}"
      ]
     },
     "execution_count": 444,
     "metadata": {},
     "output_type": "execute_result"
    }
   ],
   "source": [
    "inventory"
   ]
  },
  {
   "cell_type": "code",
   "execution_count": 5,
   "id": "9befe699-f181-4752-b992-3d06f6ff606c",
   "metadata": {},
   "outputs": [],
   "source": [
    "def add_new_book(title, price,quantity):\n",
    "    if title  in inventory:\n",
    "        print(f\"The book '{title}' is in stock\")\n",
    "    else:\n",
    "        inventory[title] = {\"price\":price ,\"quantity\":quantity}\n",
    "        print(f\"New'{title}' book added\")\n"
   ]
  },
  {
   "cell_type": "code",
   "execution_count": 7,
   "id": "4c3b988d-7ad4-455d-9c8b-dc676a430767",
   "metadata": {},
   "outputs": [
    {
     "name": "stdout",
     "output_type": "stream",
     "text": [
      "New'My book' book added\n"
     ]
    }
   ],
   "source": [
    "add_new_book(\"My book\" ,45.2,4)"
   ]
  },
  {
   "cell_type": "code",
   "execution_count": 9,
   "id": "29035aa1-2b62-484b-b7e3-795a2a8104c7",
   "metadata": {},
   "outputs": [],
   "source": [
    "def all_books_details():\n",
    "    return list(inventory.items())"
   ]
  },
  {
   "cell_type": "code",
   "execution_count": 11,
   "id": "f50de2a0-fb79-411b-b82b-358651a1b549",
   "metadata": {},
   "outputs": [
    {
     "name": "stdout",
     "output_type": "stream",
     "text": [
      "[('The Great Gatsby', {'price': 10.99, 'quantity': 5}), ('Rich Dad Poor Dad', {'price': 8.99, 'quantity': 8}), ('Harry Potter', {'price': 12.5, 'quantity': 2}), ('My book', {'price': 45.2, 'quantity': 4})]\n"
     ]
    }
   ],
   "source": [
    "print(all_books_details())"
   ]
  },
  {
   "cell_type": "code",
   "execution_count": 13,
   "id": "d99cbf8e-6d29-4884-b3f3-8301666e8327",
   "metadata": {},
   "outputs": [],
   "source": [
    "out_of_stock_books = [title for title , detials in inventory.items() if detials [\"quantity\"] == 0]"
   ]
  },
  {
   "cell_type": "code",
   "execution_count": 15,
   "id": "847b0078-d8e9-4541-9d3b-12666cc02c8a",
   "metadata": {},
   "outputs": [
    {
     "data": {
      "text/plain": [
       "[]"
      ]
     },
     "execution_count": 15,
     "metadata": {},
     "output_type": "execute_result"
    }
   ],
   "source": [
    "out_of_stock_books"
   ]
  },
  {
   "cell_type": "code",
   "execution_count": 17,
   "id": "f83b033e-887a-4bd9-a67a-b850014a8a74",
   "metadata": {},
   "outputs": [],
   "source": [
    "def remove_out_of_stock_books():\n",
    "    out_of_stock_books = [title for title , detials in inventory.items() if detials [\"quantity\"] == 0]\n",
    "    for book in out_of_stock_books:\n",
    "     del inventory[book]\n",
    "     print(f\"This Book '{book}'is now out of stock.\")\n",
    "        \n",
    "        "
   ]
  },
  {
   "cell_type": "code",
   "execution_count": 19,
   "id": "26a18a2c-f192-4524-b5eb-9cc4dc2adf6f",
   "metadata": {},
   "outputs": [],
   "source": [
    "inventory[\"My book\"][\"quantity\"] == 0\n",
    "remove_out_of_stock_books()"
   ]
  },
  {
   "cell_type": "code",
   "execution_count": 23,
   "id": "13613fc2-1b3e-4eb5-93de-4e0dbfcc4943",
   "metadata": {},
   "outputs": [
    {
     "name": "stdout",
     "output_type": "stream",
     "text": [
      "updated inventory {'The Great Gatsby': {'price': 10.99, 'quantity': 5}, 'Rich Dad Poor Dad': {'price': 8.99, 'quantity': 8}, 'Harry Potter': {'price': 12.5, 'quantity': 2}, 'My book': {'price': 45.2, 'quantity': 4}}\n"
     ]
    }
   ],
   "source": [
    "print(\"updated inventory\",inventory)"
   ]
  },
  {
   "cell_type": "code",
   "execution_count": 25,
   "id": "35cc6b78-acf6-459c-b0e5-d8f61ff12b64",
   "metadata": {},
   "outputs": [],
   "source": [
    "##Q3\n",
    "\n",
    "products = { 101: {\"name\":\"Laptop\", \"category\": \"Electronics\", \"price\": 1200, \"stock\": 50}, \n",
    "            102:{\"name\": \"Shirt\", \"category\": \"Apparel\", \"price\": 25, \"stock\": 200}, \n",
    "            103: {\"name\": \"Coffee Maker\",\"category\": \"Home Appliances\", \"price\": 80, \"stock\": 30} }\n",
    "##• Increase the stock of the \"Shirt: product (add 50 more units)\n",
    "##• Add a new product (e.g., &quot;Smartphone&quot;)"
   ]
  },
  {
   "cell_type": "code",
   "execution_count": 27,
   "id": "84b92061-e7eb-418b-ab85-7a07501e991e",
   "metadata": {},
   "outputs": [
    {
     "data": {
      "text/plain": [
       "{101: {'name': 'Laptop',\n",
       "  'category': 'Electronics',\n",
       "  'price': 1200,\n",
       "  'stock': 50},\n",
       " 102: {'name': 'Shirt', 'category': 'Apparel', 'price': 25, 'stock': 200},\n",
       " 103: {'name': 'Coffee Maker',\n",
       "  'category': 'Home Appliances',\n",
       "  'price': 80,\n",
       "  'stock': 30}}"
      ]
     },
     "execution_count": 27,
     "metadata": {},
     "output_type": "execute_result"
    }
   ],
   "source": [
    "products"
   ]
  },
  {
   "cell_type": "code",
   "execution_count": 35,
   "id": "7e2364b1-a3d7-401d-99bd-432a75d7120d",
   "metadata": {},
   "outputs": [
    {
     "data": {
      "text/plain": [
       "dict_items([(101, {'name': 'Laptop', 'category': 'Electronics', 'price': 1200, 'stock': 50}), (102, {'name': 'Shirt', 'category': 'Apparel', 'price': 25, 'stock': 200}), (103, {'name': 'Coffee Maker', 'category': 'Home Appliances', 'price': 80, 'stock': 30})])"
      ]
     },
     "execution_count": 35,
     "metadata": {},
     "output_type": "execute_result"
    }
   ],
   "source": [
    "products.items()"
   ]
  },
  {
   "cell_type": "code",
   "execution_count": 53,
   "id": "d52c1edf-4c94-435a-bbca-4e0a3dfd959f",
   "metadata": {},
   "outputs": [],
   "source": [
    "def increase_stock(product_name, quantity):\n",
    "     for product_id,details in products.items():\n",
    "        if details[\"name\"] == product_name:\n",
    "            details[\"stock\"] += quantity\n",
    "            print(f\"Stock of '{product_name}' increased by {quantity}. New stock: {details['stock']}\")\n",
    "        else:\n",
    "           print(f\"Product '{product_name}' not found.\")"
   ]
  },
  {
   "cell_type": "code",
   "execution_count": 55,
   "id": "84623ba8-77b2-4f6d-8388-c23b57523ad7",
   "metadata": {},
   "outputs": [
    {
     "name": "stdout",
     "output_type": "stream",
     "text": [
      "Product 'Shirt' not found.\n",
      "Stock of 'Shirt' increased by 10. New stock: 210\n",
      "Product 'Shirt' not found.\n"
     ]
    }
   ],
   "source": [
    "increase_stock(\"Shirt\", 10)"
   ]
  },
  {
   "cell_type": "code",
   "execution_count": 57,
   "id": "9cd5ebaa-12e4-449e-8fb0-cf6a2024ba69",
   "metadata": {},
   "outputs": [],
   "source": [
    "\n",
    "def add_product(product_id, name, category, price, stock):\n",
    "    if product_id in products:\n",
    "        print(f\"Product ID {product_id} already exists.\")\n",
    "    else:\n",
    "        products[product_id] = {\"name\": name, \"category\": category, \"price\": price, \"stock\": stock}\n",
    "        print(f\"Product '{name}' added with ID {product_id}.\")\n"
   ]
  },
  {
   "cell_type": "code",
   "execution_count": 61,
   "id": "031b5ff7-5363-443b-b838-19bb5b0bda39",
   "metadata": {},
   "outputs": [
    {
     "name": "stdout",
     "output_type": "stream",
     "text": [
      "Product ID 104 already exists.\n"
     ]
    }
   ],
   "source": [
    "add_product(104 , \"Smartphone\" ,\"Electronics\" ,3000 , 150)"
   ]
  },
  {
   "cell_type": "code",
   "execution_count": 63,
   "id": "30a32307-e2c0-438b-9ae4-e20270d98b94",
   "metadata": {},
   "outputs": [
    {
     "data": {
      "text/plain": [
       "{'apple', 'banana', 'grape', 'orange'}"
      ]
     },
     "execution_count": 63,
     "metadata": {},
     "output_type": "execute_result"
    }
   ],
   "source": [
    "##Q4...\n",
    "shopping_list =[\"apple\",\"banana\",\"apple\",\"orange\",\"banana\",\"grape\"]\n",
    "set (shopping_list)"
   ]
  },
  {
   "cell_type": "code",
   "execution_count": 65,
   "id": "f1537ccd-6e68-40b9-b516-260a8c890122",
   "metadata": {},
   "outputs": [],
   "source": [
    "##Q5...\n",
    "course_A ={\"jhon\",\"Alice\",\"Bob\",\"David\"}\n",
    "course_B ={\"Alice\",\"Eve\",\"Charile\",\"David\"}"
   ]
  },
  {
   "cell_type": "code",
   "execution_count": 970,
   "id": "39f18a8b-0d00-43e6-85a7-f6cebaf9eefb",
   "metadata": {},
   "outputs": [
    {
     "name": "stdout",
     "output_type": "stream",
     "text": [
      "{'Bob', 'jhon'}\n"
     ]
    }
   ],
   "source": [
    " New_list_of_student_enroll_in_course_B = course_A - course_B\n",
    "print(New_list_of_student_enroll_in_course_B) "
   ]
  },
  {
   "cell_type": "code",
   "execution_count": null,
   "id": "ffb7ef1d-5147-43b8-81e5-a3025773906a",
   "metadata": {},
   "outputs": [],
   "source": [
    "##method 1"
   ]
  },
  {
   "cell_type": "code",
   "execution_count": 67,
   "id": "6194c5d0-df3e-47d6-a2ee-557f1ec092be",
   "metadata": {},
   "outputs": [],
   "source": [
    "New_list_of_student_enroll_in_course_B = course_A.symmetric_difference(course_B)"
   ]
  },
  {
   "cell_type": "code",
   "execution_count": 69,
   "id": "a3d88294-948a-4861-aa3a-39d7833aaa31",
   "metadata": {},
   "outputs": [
    {
     "name": "stdout",
     "output_type": "stream",
     "text": [
      "{'Charile', 'Eve', 'Bob', 'jhon'}\n"
     ]
    }
   ],
   "source": [
    "print(New_list_of_student_enroll_in_course_B)"
   ]
  },
  {
   "cell_type": "code",
   "execution_count": null,
   "id": "45d3eae7-865a-4716-9221-3941fbaf867a",
   "metadata": {},
   "outputs": [],
   "source": [
    "##method 2"
   ]
  },
  {
   "cell_type": "code",
   "execution_count": 71,
   "id": "e32b7498-fad8-4255-9456-b5cb48536aa4",
   "metadata": {},
   "outputs": [
    {
     "data": {
      "text/plain": [
       "{'Bob', 'Charile', 'Eve', 'jhon'}"
      ]
     },
     "execution_count": 71,
     "metadata": {},
     "output_type": "execute_result"
    }
   ],
   "source": [
    "course_A ^ course_B"
   ]
  },
  {
   "cell_type": "code",
   "execution_count": null,
   "id": "a3cbf704-864f-4a92-ae1d-df663842f1e7",
   "metadata": {},
   "outputs": [],
   "source": [
    "##Q6..."
   ]
  },
  {
   "cell_type": "code",
   "execution_count": 75,
   "id": "f0bc3dde-8e08-4de7-bd27-08964ca4da36",
   "metadata": {},
   "outputs": [
    {
     "name": "stdout",
     "output_type": "stream",
     "text": [
      "All sum of even numbers between 1 and 50 650\n"
     ]
    }
   ],
   "source": [
    "sum_of_evens = 0\n",
    "for i in range (1,51):\n",
    "    if i % 2 == 0:\n",
    "        sum_of_evens = sum_of_evens + i \n",
    "        \n",
    "print(\"All sum of even numbers between 1 and 50\",sum_of_evens)\n"
   ]
  },
  {
   "cell_type": "code",
   "execution_count": 77,
   "id": "da7f7065-ad11-4bbd-a965-cb21cdbf71ac",
   "metadata": {},
   "outputs": [
    {
     "name": "stdin",
     "output_type": "stream",
     "text": [
      "Enter number 6\n"
     ]
    },
    {
     "name": "stdout",
     "output_type": "stream",
     "text": [
      "6 * 1 = 6\n",
      "6 * 2 = 12\n",
      "6 * 3 = 18\n",
      "6 * 4 = 24\n",
      "6 * 5 = 30\n",
      "6 * 6 = 36\n",
      "6 * 7 = 42\n",
      "6 * 8 = 48\n",
      "6 * 9 = 54\n",
      "6 * 10 = 60\n"
     ]
    }
   ],
   "source": [
    "##Q 7...\n",
    "table_number = (int(input(\"Enter number\")))\n",
    "for i in range(1,11):\n",
    "    print(f'{table_number} * {i} = {i*table_number}')"
   ]
  },
  {
   "cell_type": "code",
   "execution_count": 79,
   "id": "c3fa2181-e624-484c-a2b7-a31d2e566cee",
   "metadata": {},
   "outputs": [
    {
     "name": "stdin",
     "output_type": "stream",
     "text": [
      "Enter a number 5\n"
     ]
    },
    {
     "name": "stdout",
     "output_type": "stream",
     "text": [
      "5 ^ 1 = 5\n",
      "5 ^ 2 = 25\n",
      "5 ^ 3 = 125\n",
      "5 ^ 4 = 625\n",
      "5 ^ 5 = 3125\n",
      "5 ^ 6 = 15625\n",
      "5 ^ 7 = 78125\n",
      "5 ^ 8 = 390625\n",
      "5 ^ 9 = 1953125\n",
      "5 ^ 10 = 9765625\n"
     ]
    }
   ],
   "source": [
    "##Q 8...\n",
    "number =int(input(\"Enter a number\"))\n",
    "i = 1\n",
    "while i <= 10:\n",
    "    output = number ** i\n",
    "    print(f\"{number} ^ {i} = {output}\")\n",
    "    i = i + 1 \n",
    "\n",
    "    "
   ]
  },
  {
   "cell_type": "code",
   "execution_count": 81,
   "id": "9a80e0f1-ff6a-40f1-94ac-e97de4eb916d",
   "metadata": {},
   "outputs": [
    {
     "name": "stdin",
     "output_type": "stream",
     "text": [
      "Enter a number to start countdown 5\n"
     ]
    },
    {
     "name": "stdout",
     "output_type": "stream",
     "text": [
      "5\n",
      "4\n",
      "3\n",
      "2\n",
      "1\n",
      "0\n",
      "Countdown finish! ...\n"
     ]
    }
   ],
   "source": [
    "##9..\n",
    "number = int(input( \"Enter a number to start countdown\"))\n",
    "while number >= 0:\n",
    "    print(number)\n",
    "    number -= 1\n",
    "    \n",
    "print(\"Countdown finish! ...\")\n",
    "          "
   ]
  },
  {
   "cell_type": "code",
   "execution_count": 83,
   "id": "da7362a1-6135-4076-b940-1b342a5ac211",
   "metadata": {},
   "outputs": [
    {
     "name": "stdin",
     "output_type": "stream",
     "text": [
      "Enter the number 4\n"
     ]
    },
    {
     "name": "stdout",
     "output_type": "stream",
     "text": [
      "*\n",
      "**\n",
      "***\n",
      "****\n"
     ]
    }
   ],
   "source": [
    "##Q 10...\n",
    "\n",
    "Pattern_of_star = int(input(\"Enter the number\"))\n",
    "Pattern_of_star = Pattern_of_star + 1\n",
    "star = '*'\n",
    "for i in range (1 ,Pattern_of_star):\n",
    "     print(star)\n",
    "     star = star + \"*\""
   ]
  },
  {
   "cell_type": "code",
   "execution_count": null,
   "id": "753566e8-c1b6-4921-85ef-0bb93910ad33",
   "metadata": {},
   "outputs": [],
   "source": []
  }
 ],
 "metadata": {
  "kernelspec": {
   "display_name": "Python [conda env:base] *",
   "language": "python",
   "name": "conda-base-py"
  },
  "language_info": {
   "codemirror_mode": {
    "name": "ipython",
    "version": 3
   },
   "file_extension": ".py",
   "mimetype": "text/x-python",
   "name": "python",
   "nbconvert_exporter": "python",
   "pygments_lexer": "ipython3",
   "version": "3.12.7"
  }
 },
 "nbformat": 4,
 "nbformat_minor": 5
}
